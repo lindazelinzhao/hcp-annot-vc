{
 "cells": [
  {
   "cell_type": "code",
   "execution_count": 23,
   "metadata": {},
   "outputs": [],
   "source": [
    "import os, pathlib\n",
    "import numpy as np\n",
    "import neuropythy as ny\n",
    "import matplotlib as mpl, matplotlib.pyplot as plt\n",
    "import ipyvolume as ipv\n",
    "import pandas as pd\n",
    "\n",
    "from neuropythy.geometry.util import triangle_area"
   ]
  },
  {
   "cell_type": "code",
   "execution_count": 19,
   "metadata": {},
   "outputs": [],
   "source": [
    "# The save directory where we load the ventral ROI labels from.\n",
    "ventral_label_path = '~/code/hcp-annot-vc_data/save'\n",
    "\n",
    "# The following code is for loading in the ventral ROI labels.\n",
    "def load_ventral_pathaddr(rater, sid, h, lbl):\n",
    "    p = pathlib.Path(ventral_label_path).expanduser()\n",
    "    p = p / rater / str(sid)\n",
    "    return ny.load(str(p / f\"{h}.{lbl}_path.json.gz\"))\n",
    "def load_ventral_pathaddrs(rater, sid, h):\n",
    "    rois = {}\n",
    "    for k in ['hV4', 'VO1', 'VO2']:\n",
    "        rois[k] = load_ventral_pathaddr(rater, sid, h, k)\n",
    "    return rois\n",
    "def load_ventral_paths(rater, sid, h):\n",
    "    addrs = load_ventral_pathaddrs(rater, sid, h)\n",
    "    hem = ny.data['hcp_lines'].subjects[sid].hemis[h]\n",
    "    return {k: ny.geometry.Path(hem, path)\n",
    "            for (k,path) in addrs.items()}\n",
    "def load_ventral_labels(rater, sid, h):\n",
    "    paths = load_ventral_paths(rater, sid, h)\n",
    "    lbls = {}\n",
    "    for (k,path) in paths.items():\n",
    "        lbl = (path.label > 0.5)\n",
    "        if np.sum(lbl) > np.sum(~lbl):\n",
    "            lbl = ~lbl\n",
    "        lbls[k] = lbl\n",
    "    return lbls"
   ]
  },
  {
   "cell_type": "code",
   "execution_count": 25,
   "metadata": {},
   "outputs": [],
   "source": [
    "# This is the sample rater and subject/hemisphere we will be using.\n",
    "rater = 'lindazelinzhao'\n",
    "sid = 102311\n",
    "h = 'lh'\n",
    "\n",
    "# Get the subject and hemisphere object, and the midgray surface.\n",
    "sub = ny.data['hcp_lines'].subjects[sid]\n",
    "hem = sub.hemis[h]\n",
    "surf = hem.surface('midgray')\n",
    "\n",
    "# Load the labels for visual areas and combine them.\n",
    "ventral_labels = load_ventral_labels(rater, sid, h)\n",
    "early_labels = {f'V{k}': hem.prop('visual_area') == k\n",
    "                for k in [1,2,3]}\n",
    "labels = dict(ventral_labels)\n",
    "labels.update(early_labels)"
   ]
  },
  {
   "cell_type": "code",
   "execution_count": 35,
   "metadata": {},
   "outputs": [
    {
     "data": {
      "text/plain": [
       "array([[     0,      4,      0, ..., 131647, 132557, 132992],\n",
       "       [     1,      3,     50, ..., 132558, 132545, 132133],\n",
       "       [     3,      1,     51, ..., 132123, 132544, 132558]])"
      ]
     },
     "execution_count": 35,
     "metadata": {},
     "output_type": "execute_result"
    }
   ],
   "source": [
    "surf.tess.faces"
   ]
  },
  {
   "cell_type": "code",
   "execution_count": 36,
   "metadata": {},
   "outputs": [],
   "source": [
    "(corner1, corner2, corner3) = surf.tess.faces"
   ]
  },
  {
   "cell_type": "code",
   "execution_count": 39,
   "metadata": {},
   "outputs": [],
   "source": [
    "(vertex_x, vertex_y, vertex_z) = surf.coordinates"
   ]
  },
  {
   "cell_type": "code",
   "execution_count": 41,
   "metadata": {},
   "outputs": [
    {
     "data": {
      "text/plain": [
       "(-14.739158, -97.410095, 8.203468)"
      ]
     },
     "execution_count": 41,
     "metadata": {},
     "output_type": "execute_result"
    }
   ],
   "source": [
    "face0_a = corner1[0]\n",
    "face0_b = corner1[1]\n",
    "face0_c = corner1[2]\n",
    "\n",
    "(vertex_x[face0_a], vertex_y[face0_a], vertex_z[face0_a])"
   ]
  },
  {
   "cell_type": "code",
   "execution_count": 56,
   "metadata": {},
   "outputs": [],
   "source": [
    "corner_coords = surf.coordinates[:, surf.tess.faces]\n",
    "corner_coords = np.transpose(corner_coords, (1,0,2))"
   ]
  },
  {
   "cell_type": "code",
   "execution_count": 57,
   "metadata": {},
   "outputs": [
    {
     "data": {
      "text/plain": [
       "(3, 3, 273694)"
      ]
     },
     "execution_count": 57,
     "metadata": {},
     "output_type": "execute_result"
    }
   ],
   "source": [
    "corner_coords.shape"
   ]
  },
  {
   "cell_type": "code",
   "execution_count": 59,
   "metadata": {},
   "outputs": [],
   "source": [
    "# Get the coordinates for the first triangle:\n",
    "# (a_xyz, b_xyz, c_xyz) = corner_coords[:,:,0]\n",
    "\n",
    "(a, b, c) = corner_coords"
   ]
  },
  {
   "cell_type": "code",
   "execution_count": 77,
   "metadata": {},
   "outputs": [],
   "source": [
    "face_areas = triangle_area(a, b, c)"
   ]
  },
  {
   "cell_type": "code",
   "execution_count": 78,
   "metadata": {},
   "outputs": [
    {
     "data": {
      "text/plain": [
       "array([0.16524176, 0.20039554, 0.2609294 , ..., 0.2925599 , 0.29793352,\n",
       "       0.85141593], dtype=float32)"
      ]
     },
     "execution_count": 78,
     "metadata": {},
     "output_type": "execute_result"
    }
   ],
   "source": [
    "face_areas"
   ]
  },
  {
   "cell_type": "code",
   "execution_count": 83,
   "metadata": {},
   "outputs": [],
   "source": [
    "vis_x = surf.prop('prf_x')\n",
    "vis_y = surf.prop('prf_y')\n",
    "vis_coords = np.array([vis_x, vis_y])"
   ]
  },
  {
   "cell_type": "code",
   "execution_count": 84,
   "metadata": {},
   "outputs": [],
   "source": [
    "corner_vis_coords = vis_coords[:, surf.tess.faces]\n",
    "corner_vis_coords = np.transpose(corner_vis_coords, (1,0,2))"
   ]
  },
  {
   "cell_type": "code",
   "execution_count": 85,
   "metadata": {},
   "outputs": [
    {
     "data": {
      "text/plain": [
       "(3, 2, 273694)"
      ]
     },
     "execution_count": 85,
     "metadata": {},
     "output_type": "execute_result"
    }
   ],
   "source": [
    "corner_vis_coords.shape"
   ]
  },
  {
   "cell_type": "code",
   "execution_count": 86,
   "metadata": {},
   "outputs": [],
   "source": [
    "(vis_a, vis_b, vis_c) = corner_vis_coords"
   ]
  },
  {
   "cell_type": "code",
   "execution_count": 87,
   "metadata": {},
   "outputs": [],
   "source": [
    "face_vis_areas = triangle_area(vis_a, vis_b, vis_c)"
   ]
  },
  {
   "cell_type": "code",
   "execution_count": 88,
   "metadata": {},
   "outputs": [
    {
     "data": {
      "text/plain": [
       "(273694,)"
      ]
     },
     "execution_count": 88,
     "metadata": {},
     "output_type": "execute_result"
    }
   ],
   "source": [
    "face_vis_areas.shape"
   ]
  },
  {
   "cell_type": "code",
   "execution_count": 89,
   "metadata": {},
   "outputs": [
    {
     "name": "stderr",
     "output_type": "stream",
     "text": [
      "/home/nben/.conda/envs/nben/lib/python3.8/site-packages/numpy/lib/histograms.py:839: RuntimeWarning: invalid value encountered in greater_equal\n",
      "  keep = (tmp_a >= first_edge)\n",
      "/home/nben/.conda/envs/nben/lib/python3.8/site-packages/numpy/lib/histograms.py:840: RuntimeWarning: invalid value encountered in less_equal\n",
      "  keep &= (tmp_a <= last_edge)\n"
     ]
    },
    {
     "data": {
      "text/plain": [
       "(array([2.54057e+05, 2.26300e+03, 6.63000e+02, 3.77000e+02, 8.30000e+01,\n",
       "        4.80000e+01, 2.10000e+01, 8.00000e+00, 1.00000e+01, 6.00000e+00]),\n",
       " array([  0.      ,  32.51551 ,  65.03102 ,  97.546524, 130.06204 ,\n",
       "        162.57755 , 195.09305 , 227.60857 , 260.12408 , 292.6396  ,\n",
       "        325.1551  ], dtype=float32),\n",
       " <a list of 10 Patch objects>)"
      ]
     },
     "execution_count": 89,
     "metadata": {},
     "output_type": "execute_result"
    },
    {
     "data": {
      "image/png": "[encoded data removed]",
      "text/plain": [
       "<Figure size 432x288 with 1 Axes>"
      ]
     },
     "metadata": {
      "needs_background": "light"
     },
     "output_type": "display_data"
    }
   ],
   "source": [
    "plt.hist(face_vis_areas)"
   ]
  },
  {
   "cell_type": "code",
   "execution_count": 91,
   "metadata": {},
   "outputs": [
    {
     "name": "stderr",
     "output_type": "stream",
     "text": [
      "<ipython-input-91-3a105c3782d0>:1: RuntimeWarning: divide by zero encountered in true_divide\n",
      "  cmag = face_areas / face_vis_areas\n"
     ]
    }
   ],
   "source": [
    "cmag = face_areas / face_vis_areas"
   ]
  },
  {
   "cell_type": "code",
   "execution_count": 92,
   "metadata": {},
   "outputs": [
    {
     "data": {
      "text/plain": [
       "array([inf, inf, inf, ..., inf, inf, inf], dtype=float32)"
      ]
     },
     "execution_count": 92,
     "metadata": {},
     "output_type": "execute_result"
    }
   ],
   "source": [
    "cmag"
   ]
  },
  {
   "cell_type": "code",
   "execution_count": 94,
   "metadata": {},
   "outputs": [
    {
     "data": {
      "text/plain": [
       "(array([42308.,  2468.,  1594.,  1056.,   802.,   620.,   509.,   439.,\n",
       "          344.,   302.]),\n",
       " array([2.2349953e-04, 4.9938625e+01, 9.9877029e+01, 1.4981543e+02,\n",
       "        1.9975383e+02, 2.4969223e+02, 2.9963065e+02, 3.4956903e+02,\n",
       "        3.9950745e+02, 4.4944583e+02, 4.9938425e+02], dtype=float32),\n",
       " <a list of 10 Patch objects>)"
      ]
     },
     "execution_count": 94,
     "metadata": {},
     "output_type": "execute_result"
    },
    {
     "data": {
      "image/png": "[encoded data removed]",
      "text/plain": [
       "<Figure size 432x288 with 1 Axes>"
      ]
     },
     "metadata": {
      "needs_background": "light"
     },
     "output_type": "display_data"
    }
   ],
   "source": [
    "finite_cmag = cmag[np.isfinite(cmag)]\n",
    "plt.hist(finite_cmag[finite_cmag < 500])"
   ]
  },
  {
   "cell_type": "code",
   "execution_count": 95,
   "metadata": {},
   "outputs": [],
   "source": [
    "def ring_area_deg2(min_eccen, max_eccen, hemifield=False):\n",
    "    \"\"\"Computes the area (in square degrees) of a ring in the visual field.\"\"\"\n",
    "    if hemifield:\n",
    "        return (np.pi * max_eccen**2 - np.pi * min_eccen**2) / 2\n",
    "    else:\n",
    "        return np.pi * max_eccen**2 - np.pi * min_eccen**2"
   ]
  },
  {
   "cell_type": "code",
   "execution_count": 96,
   "metadata": {},
   "outputs": [],
   "source": [
    "sub = ny.data['hcp_lines'].subjects[111312]\n",
    "lh = sub.lh"
   ]
  },
  {
   "cell_type": "code",
   "execution_count": 101,
   "metadata": {},
   "outputs": [],
   "source": [
    "eccen = lh.prop('prf_eccentricity')\n",
    "label = lh.prop('visual_area')\n",
    "sarea = lh.prop('surface_area')"
   ]
  },
  {
   "cell_type": "code",
   "execution_count": 102,
   "metadata": {},
   "outputs": [
    {
     "data": {
      "text/plain": [
       "array([0.33886254, 0.3088855 , 0.34559762, ..., 0.36263546, 0.17667758,\n",
       "       0.09788544], dtype=float32)"
      ]
     },
     "execution_count": 102,
     "metadata": {},
     "output_type": "execute_result"
    }
   ],
   "source": [
    "sarea"
   ]
  },
  {
   "cell_type": "code",
   "execution_count": 106,
   "metadata": {},
   "outputs": [],
   "source": [
    "def cmag_at_eccen(hemi, target_eccen, vertex_eccen, mask, width=1):\n",
    "    # Calculate the area of the ring in the visual field:\n",
    "    min_eccen = target_eccen - width/2\n",
    "    max_eccen = target_eccen + width/2\n",
    "    area_vis = ring_area_deg2(min_eccen, max_eccen, hemifield=True)\n",
    "    # Next, find the vertices inside the ring:\n",
    "    vertices_in_ring = mask & (vertex_eccen > min_eccen) & (vertex_eccen < max_eccen)\n",
    "    # Sum up the vertex areas of vertices in the ring:\n",
    "    area_surf = hemi.prop('surface_area')[vertices_in_ring]\n",
    "    area_surf = np.sum(area_surf)\n",
    "    # Now we have area on the surface and area in the visual field, so just divide:\n",
    "    return area_surf / area_vis"
   ]
  },
  {
   "cell_type": "code",
   "execution_count": 107,
   "metadata": {},
   "outputs": [],
   "source": [
    "v1_mask = (label == 1)"
   ]
  },
  {
   "cell_type": "code",
   "execution_count": 108,
   "metadata": {},
   "outputs": [
    {
     "name": "stderr",
     "output_type": "stream",
     "text": [
      "<ipython-input-106-2a5dd99d74db>:7: RuntimeWarning: invalid value encountered in greater\n",
      "  vertices_in_ring = mask & (vertex_eccen > min_eccen) & (vertex_eccen < max_eccen)\n",
      "<ipython-input-106-2a5dd99d74db>:7: RuntimeWarning: invalid value encountered in less\n",
      "  vertices_in_ring = mask & (vertex_eccen > min_eccen) & (vertex_eccen < max_eccen)\n"
     ]
    },
    {
     "data": {
      "text/plain": [
       "15.351705602851709"
      ]
     },
     "execution_count": 108,
     "metadata": {},
     "output_type": "execute_result"
    }
   ],
   "source": [
    "cmag_at_eccen(lh, 3, eccen, v1_mask)"
   ]
  },
  {
   "cell_type": "markdown",
   "metadata": {},
   "source": [
    "This is the Horton and Hoyt Equation for cortical magnification in V1:\n",
    "\n",
    "$m(e) = (17.3 / (0.75 + e))^2$ ($e$ is eccentricity in degrees, $m(e)$ is cortical magnification in square mm per square deg)"
   ]
  },
  {
   "cell_type": "code",
   "execution_count": 117,
   "metadata": {},
   "outputs": [
    {
     "data": {
      "text/plain": [
       "[<matplotlib.lines.Line2D at 0x7f483ea4d100>]"
      ]
     },
     "execution_count": 117,
     "metadata": {},
     "output_type": "execute_result"
    },
    {
     "data": {
      "image/png": "[encoded data removed]",
      "text/plain": [
       "<Figure size 432x288 with 1 Axes>"
      ]
     },
     "metadata": {
      "needs_background": "light"
     },
     "output_type": "display_data"
    }
   ],
   "source": [
    "e = np.linspace(0.25, 12, 500)\n",
    "plt.plot(e, (17.3 / (0.75 + e))**2, 'k-')"
   ]
  },
  {
   "cell_type": "code",
   "execution_count": 118,
   "metadata": {},
   "outputs": [
    {
     "name": "stderr",
     "output_type": "stream",
     "text": [
      "<ipython-input-106-2a5dd99d74db>:7: RuntimeWarning: invalid value encountered in greater\n",
      "  vertices_in_ring = mask & (vertex_eccen > min_eccen) & (vertex_eccen < max_eccen)\n",
      "<ipython-input-106-2a5dd99d74db>:7: RuntimeWarning: invalid value encountered in less\n",
      "  vertices_in_ring = mask & (vertex_eccen > min_eccen) & (vertex_eccen < max_eccen)\n"
     ]
    }
   ],
   "source": [
    "cmag = [cmag_at_eccen(lh, x, eccen, v1_mask, width=x/2) for x in e]"
   ]
  },
  {
   "cell_type": "code",
   "execution_count": 120,
   "metadata": {},
   "outputs": [
    {
     "data": {
      "text/plain": [
       "[<matplotlib.lines.Line2D at 0x7f483ea14e50>]"
      ]
     },
     "execution_count": 120,
     "metadata": {},
     "output_type": "execute_result"
    },
    {
     "data": {
      "image/png": "[encoded data removed]",
      "text/plain": [
       "<Figure size 432x288 with 1 Axes>"
      ]
     },
     "metadata": {
      "needs_background": "light"
     },
     "output_type": "display_data"
    }
   ],
   "source": [
    "(fig, ax) = plt.subplots(1, 1)\n",
    "ax.plot(e, (17.3 / (0.75 + e))**2, 'k-')\n",
    "ax.plot(e, cmag, 'r-')"
   ]
  },
  {
   "cell_type": "code",
   "execution_count": null,
   "metadata": {},
   "outputs": [],
   "source": []
  }
 ],
 "metadata": {
  "kernelspec": {
   "display_name": "Noah's Python Environment",
   "language": "python",
   "name": "python-nben"
  },
  "language_info": {
   "codemirror_mode": {
    "name": "ipython",
    "version": 3
   },
   "file_extension": ".py",
   "mimetype": "text/x-python",
   "name": "python",
   "nbconvert_exporter": "python",
   "pygments_lexer": "ipython3",
   "version": "3.8.2"
  }
 },
 "nbformat": 4,
 "nbformat_minor": 4
}
